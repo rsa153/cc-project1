{
 "cells": [
  {
   "cell_type": "code",
   "execution_count": null,
   "metadata": {},
   "outputs": [],
   "source": [
    "total_crime_df = combined_data_df.value_counts([\"Date\"]).reset_index(name='Counts')\n",
    "total_crime_df.to_csv('file_name.csv')\n",
    "total_crime_with_covid_df = pd.merge(total_crime_df, Covid_transformed, on = \"Date\")\n",
    "total_crime_with_covid_df\n",
    "total_crime_with_covid_df.plot(kind='scatter',x='Cases - Total',y='Counts',color='red')\n",
    "total_crime_with_covid_df.describe()\n",
    "Q1 = total_crime_with_covid_df.quantile(0.25)\n",
    "Q3 = total_crime_with_covid_df.quantile(0.75)\n",
    "IQR = Q3 - Q1\n",
    "print(IQR)"
   ]
  }
 ],
 "metadata": {
  "kernelspec": {
   "display_name": "Python 3",
   "language": "python",
   "name": "python3"
  },
  "language_info": {
   "codemirror_mode": {
    "name": "ipython",
    "version": 3
   },
   "file_extension": ".py",
   "mimetype": "text/x-python",
   "name": "python",
   "nbconvert_exporter": "python",
   "pygments_lexer": "ipython3",
   "version": "3.8.5"
  }
 },
 "nbformat": 4,
 "nbformat_minor": 4
}
