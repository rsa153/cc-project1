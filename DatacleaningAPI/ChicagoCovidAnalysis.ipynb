{
 "cells": [
  {
   "cell_type": "raw",
   "metadata": {},
   "source": [
    "#Import dependancies\n",
    "import os\n",
    "import time\n",
    "import random\n",
    "import pandas as pd\n",
    "import matplotlib.pyplot as plt\n",
    "import requests\n",
    "import json\n",
    "from pprint import pprint\n",
    "from scipy.stats import linregress\n"
   ]
  },
  {
   "cell_type": "raw",
   "metadata": {},
   "source": [
    "#Covid data reading and column checking \n",
    "Covid_records = \"Resources/IL_covid_data.csv\"\n",
    "Covid_recordsDF = pd.read_csv(Covid_records, encoding=\"utf-8\")\n",
    "Covid_recordsDF.columns"
   ]
  },
  {
   "cell_type": "raw",
   "metadata": {},
   "source": [
    "Covid_recordsDF.dtypes"
   ]
  },
  {
   "cell_type": "raw",
   "metadata": {},
   "source": [
    "# Filtered DF from specific columns\n",
    "Covid_cols = [\"Date\", \"Cases - Total\"]\n",
    "Covid_transformed= Covid_recordsDF[Covid_cols].copy()\n",
    "\n",
    "#clean\n",
    "Covid_transformed.drop_duplicates(\"Date\", inplace=True)\n",
    "Covid_transformed.dropna()\n",
    "Covid_transformed.head()"
   ]
  },
  {
   "cell_type": "raw",
   "metadata": {},
   "source": [
    "#Datetime for Covid\n",
    "Covid_transformed['Date'] = pd.to_datetime(Covid_transformed['Date'], format=\"%m/%d/%Y\")\n",
    "Covid_transformed.dtypes"
   ]
  },
  {
   "cell_type": "raw",
   "metadata": {},
   "source": [
    "#Crime data reading and column checking \n",
    "Crime_datadf = \"Resources/Chi_crime_data.csv\"\n",
    "Crime_datadf = pd.read_csv(Crime_datadf, encoding=\"utf-8\")\n",
    "Crime_datadf.columns"
   ]
  },
  {
   "cell_type": "raw",
   "metadata": {},
   "source": [
    "Crime_datadf.head()"
   ]
  },
  {
   "cell_type": "raw",
   "metadata": {},
   "source": [
    "#fixing dates and merging DFs\n",
    "Crime_datadf['DATE  OF OCCURRENCE'] = pd.to_datetime(Crime_datadf['DATE  OF OCCURRENCE'], format=\"%m/%d/%Y %I:%M:%S %p\")\n",
    "Crime_datadf.dtypes"
   ]
  },
  {
   "cell_type": "raw",
   "metadata": {},
   "source": [
    "Crime_datadf['DATE  OF OCCURRENCE'] = Crime_datadf['DATE  OF OCCURRENCE'].apply(lambda x: x.replace(hour=0, minute=0, second=0))"
   ]
  },
  {
   "cell_type": "raw",
   "metadata": {},
   "source": [
    "Crime_datadf.columns"
   ]
  },
  {
   "cell_type": "raw",
   "metadata": {},
   "source": [
    "Crime_datadf.head()"
   ]
  },
  {
   "cell_type": "raw",
   "metadata": {},
   "source": [
    "#Clean that Data \n",
    "Crime_cols = [\"CASE#\", \" IUCR\", \"DATE  OF OCCURRENCE\", \" PRIMARY DESCRIPTION\", \" SECONDARY DESCRIPTION\", \" LOCATION DESCRIPTION\", \"ARREST\", \"DOMESTIC\"]\n",
    "Crime_transformed = Crime_datadf[Crime_cols].copy()\n",
    "\n",
    "Crime_transformed.drop_duplicates(\"CASE#\", inplace=True)\n",
    "Crime_transformed.dropna()\n",
    "Crime_transformed.rename(columns={\"DATE  OF OCCURRENCE\": \"Date\"}, inplace=True)\n",
    "Crime_transformed.head()"
   ]
  },
  {
   "cell_type": "raw",
   "metadata": {},
   "source": [
    "#Merge to a single df\n",
    "combined_data_df = pd.merge(Covid_transformed, Crime_transformed, on = \"Date\")"
   ]
  },
  {
   "cell_type": "raw",
   "metadata": {},
   "source": [
    "Covid_recordsDF"
   ]
  },
  {
   "cell_type": "raw",
   "metadata": {},
   "source": [
    "Crime_datadf"
   ]
  },
  {
   "cell_type": "raw",
   "metadata": {},
   "source": [
    "combined_data_df"
   ]
  },
  {
   "cell_type": "raw",
   "metadata": {},
   "source": [
    "#First Quesyion Bar plot - Most committed crime type\n",
    "crime_type_df = pd.DataFrame(Crime_transformed[\" PRIMARY DESCRIPTION\"].value_counts())\n",
    "first_question_plot = crime_type_df.plot(kind=\"bar\", title=(\"Chicago Crime\"), color='thistle')\n",
    "first_question_plot.set_xlabel('Crime Type')\n",
    "first_question_plot.set_ylabel('# of Cases')"
   ]
  },
  {
   "cell_type": "raw",
   "metadata": {},
   "source": [
    "total_crime_df = combined_data_df.value_counts([\"Date\"]).reset_index(name='Counts')"
   ]
  },
  {
   "cell_type": "raw",
   "metadata": {},
   "source": [
    "total_crime_df.to_csv('file_name.csv')"
   ]
  },
  {
   "cell_type": "raw",
   "metadata": {},
   "source": [
    "total_crime_with_covid_df = pd.merge(total_crime_df, Covid_transformed, on = \"Date\")"
   ]
  },
  {
   "cell_type": "raw",
   "metadata": {},
   "source": [
    "total_crime_with_covid_df"
   ]
  },
  {
   "cell_type": "raw",
   "metadata": {},
   "source": [
    "total_crime_with_covid_df.plot(kind='scatter',x='Cases - Total',y='Counts',color='red')"
   ]
  },
  {
   "cell_type": "raw",
   "metadata": {},
   "source": [
    "total_crime_with_covid_df.describe()"
   ]
  },
  {
   "cell_type": "raw",
   "metadata": {},
   "source": [
    "Q1 = total_crime_with_covid_df.quantile(0.25)\n",
    "Q3 = total_crime_with_covid_df.quantile(0.75)\n",
    "IQR = Q3 - Q1\n",
    "print(IQR)"
   ]
  },
  {
   "cell_type": "raw",
   "metadata": {},
   "source": [
    "New_dataset=total_crime_with_covid_df\n",
    "New_dataset.sort_values('Date')"
   ]
  },
  {
   "cell_type": "raw",
   "metadata": {},
   "source": [
    "# print(New_dataset < (Q1 - 1.5 * IQR)) |(dataset > (Q3 + 1.5 * IQR))"
   ]
  },
  {
   "cell_type": "raw",
   "metadata": {},
   "source": []
  }
 ],
 "metadata": {
  "kernelspec": {
   "display_name": "Python 3",
   "language": "python",
   "name": "python3"
  },
  "language_info": {
   "codemirror_mode": {
    "name": "ipython",
    "version": 3
   },
   "file_extension": ".py",
   "mimetype": "text/x-python",
   "name": "python",
   "nbconvert_exporter": "python",
   "pygments_lexer": "ipython3",
   "version": "3.8.5"
  }
 },
 "nbformat": 4,
 "nbformat_minor": 4
}
