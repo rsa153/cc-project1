{
 "cells": [
  {
   "cell_type": "code",
   "execution_count": 1,
   "metadata": {},
   "outputs": [],
   "source": [
    "#Import dependancies\n",
    "import os\n",
    "import time\n",
    "import random\n",
    "import pandas as pd\n",
    "import matplotlib.pyplot as plt\n",
    "import requests\n",
    "import json\n",
    "import numpy as np\n",
    "from pprint import pprint\n",
    "from scipy.stats import linregress\n",
    "import plotly.graph_objects as go\n",
    "from plotly.subplots import make_subplots\n",
    "from matplotlib.pyplot import figure\n",
    "import datetime as dt\n",
    "import numpy.polynomial.polynomial as poly"
   ]
  },
  {
   "cell_type": "code",
   "execution_count": 2,
   "metadata": {
    "scrolled": true
   },
   "outputs": [
    {
     "data": {
      "text/plain": [
       "Index(['Date', 'Cases - Total', 'Deaths - Total', 'Hospitalizations - Total',\n",
       "       'Cases - Age 0-17', 'Cases - Age 18-29', 'Cases - Age 30-39',\n",
       "       'Cases - Age 40-49', 'Cases - Age 50-59', 'Cases - Age 60-69',\n",
       "       'Cases - Age 70-79', 'Cases -  Age 80+', 'Cases - Age Unknown',\n",
       "       'Cases - Female', 'Cases - Male', 'Cases - Unknown Gender',\n",
       "       'Cases - Latinx', 'Cases - Asian Non-Latinx',\n",
       "       'Cases - Black Non-Latinx', 'Cases - White Non-Latinx',\n",
       "       'Cases - Other Race Non-Latinx', 'Cases - Unknown Race/Ethnicity',\n",
       "       'Deaths - Age 0-17', 'Deaths - Age 18-29', 'Deaths - Age 30-39',\n",
       "       'Deaths - Age 40-49', 'Deaths - Age 50-59', 'Deaths - Age 60-69',\n",
       "       'Deaths - Age 70-79', 'Deaths - Age 80+', 'Deaths - Age Unknown',\n",
       "       'Deaths - Female', 'Deaths - Male', 'Deaths - Unknown Gender',\n",
       "       'Deaths - Latinx', 'Deaths - Asian Non-Latinx',\n",
       "       'Deaths - Black Non-Latinx', 'Deaths - White Non-Latinx',\n",
       "       'Deaths - Other Race Non-Latinx', 'Deaths - Unknown Race/Ethnicity',\n",
       "       'Hospitalizations - Age 0-17', 'Hospitalizations - Age 18-29',\n",
       "       'Hospitalizations - Age 30-39', 'Hospitalizations - Age 40-49',\n",
       "       'Hospitalizations - Age 50-59', 'Hospitalizations - Age 60-69',\n",
       "       'Hospitalizations - Age 70-79', 'Hospitalizations - Age 80+',\n",
       "       'Hospitalizations - Age Unknown', 'Hospitalizations - Female',\n",
       "       'Hospitalizations - Male', 'Hospitalizations - Unknown Gender',\n",
       "       'Hospitalizations - Latinx', 'Hospitalizations - Asian Non-Latinx',\n",
       "       'Hospitalizations - Black Non-Latinx',\n",
       "       'Hospitalizations - White Non-Latinx',\n",
       "       'Hospitalizations - Other Race Non-Latinx',\n",
       "       'Hospitalizations - Unknown Race/Ethnicity'],\n",
       "      dtype='object')"
      ]
     },
     "execution_count": 2,
     "metadata": {},
     "output_type": "execute_result"
    }
   ],
   "source": [
    "#Covid data reading and column checking \n",
    "Covid_records = \"Resources/IL_covid_data.csv\"\n",
    "Covid_recordsDF = pd.read_csv(Covid_records, encoding=\"utf-8\")\n",
    "Covid_recordsDF.columns"
   ]
  },
  {
   "cell_type": "code",
   "execution_count": 3,
   "metadata": {
    "scrolled": true
   },
   "outputs": [
    {
     "data": {
      "text/plain": [
       "Date                                          object\n",
       "Cases - Total                                 object\n",
       "Deaths - Total                                 int64\n",
       "Hospitalizations - Total                      object\n",
       "Cases - Age 0-17                               int64\n",
       "Cases - Age 18-29                              int64\n",
       "Cases - Age 30-39                              int64\n",
       "Cases - Age 40-49                              int64\n",
       "Cases - Age 50-59                              int64\n",
       "Cases - Age 60-69                              int64\n",
       "Cases - Age 70-79                              int64\n",
       "Cases -  Age 80+                               int64\n",
       "Cases - Age Unknown                            int64\n",
       "Cases - Female                                object\n",
       "Cases - Male                                  object\n",
       "Cases - Unknown Gender                         int64\n",
       "Cases - Latinx                                object\n",
       "Cases - Asian Non-Latinx                       int64\n",
       "Cases - Black Non-Latinx                       int64\n",
       "Cases - White Non-Latinx                       int64\n",
       "Cases - Other Race Non-Latinx                  int64\n",
       "Cases - Unknown Race/Ethnicity                 int64\n",
       "Deaths - Age 0-17                              int64\n",
       "Deaths - Age 18-29                             int64\n",
       "Deaths - Age 30-39                             int64\n",
       "Deaths - Age 40-49                             int64\n",
       "Deaths - Age 50-59                             int64\n",
       "Deaths - Age 60-69                             int64\n",
       "Deaths - Age 70-79                             int64\n",
       "Deaths - Age 80+                               int64\n",
       "Deaths - Age Unknown                           int64\n",
       "Deaths - Female                                int64\n",
       "Deaths - Male                                  int64\n",
       "Deaths - Unknown Gender                        int64\n",
       "Deaths - Latinx                                int64\n",
       "Deaths - Asian Non-Latinx                      int64\n",
       "Deaths - Black Non-Latinx                      int64\n",
       "Deaths - White Non-Latinx                      int64\n",
       "Deaths - Other Race Non-Latinx                 int64\n",
       "Deaths - Unknown Race/Ethnicity                int64\n",
       "Hospitalizations - Age 0-17                  float64\n",
       "Hospitalizations - Age 18-29                 float64\n",
       "Hospitalizations - Age 30-39                 float64\n",
       "Hospitalizations - Age 40-49                 float64\n",
       "Hospitalizations - Age 50-59                 float64\n",
       "Hospitalizations - Age 60-69                 float64\n",
       "Hospitalizations - Age 70-79                 float64\n",
       "Hospitalizations - Age 80+                   float64\n",
       "Hospitalizations - Age Unknown               float64\n",
       "Hospitalizations - Female                     object\n",
       "Hospitalizations - Male                       object\n",
       "Hospitalizations - Unknown Gender            float64\n",
       "Hospitalizations - Latinx                    float64\n",
       "Hospitalizations - Asian Non-Latinx          float64\n",
       "Hospitalizations - Black Non-Latinx          float64\n",
       "Hospitalizations - White Non-Latinx          float64\n",
       "Hospitalizations - Other Race Non-Latinx     float64\n",
       "Hospitalizations - Unknown Race/Ethnicity    float64\n",
       "dtype: object"
      ]
     },
     "execution_count": 3,
     "metadata": {},
     "output_type": "execute_result"
    }
   ],
   "source": [
    "Covid_recordsDF.dtypes"
   ]
  },
  {
   "cell_type": "code",
   "execution_count": 4,
   "metadata": {},
   "outputs": [
    {
     "name": "stdout",
     "output_type": "stream",
     "text": [
      "(333, 2)\n"
     ]
    },
    {
     "data": {
      "text/html": [
       "<div>\n",
       "<style scoped>\n",
       "    .dataframe tbody tr th:only-of-type {\n",
       "        vertical-align: middle;\n",
       "    }\n",
       "\n",
       "    .dataframe tbody tr th {\n",
       "        vertical-align: top;\n",
       "    }\n",
       "\n",
       "    .dataframe thead th {\n",
       "        text-align: right;\n",
       "    }\n",
       "</style>\n",
       "<table border=\"1\" class=\"dataframe\">\n",
       "  <thead>\n",
       "    <tr style=\"text-align: right;\">\n",
       "      <th></th>\n",
       "      <th>Date</th>\n",
       "      <th>Cases - Total</th>\n",
       "    </tr>\n",
       "  </thead>\n",
       "  <tbody>\n",
       "    <tr>\n",
       "      <th>0</th>\n",
       "      <td>3/1/2020</td>\n",
       "      <td>0</td>\n",
       "    </tr>\n",
       "    <tr>\n",
       "      <th>1</th>\n",
       "      <td>3/2/2020</td>\n",
       "      <td>0</td>\n",
       "    </tr>\n",
       "    <tr>\n",
       "      <th>2</th>\n",
       "      <td>3/3/2020</td>\n",
       "      <td>0</td>\n",
       "    </tr>\n",
       "    <tr>\n",
       "      <th>3</th>\n",
       "      <td>3/4/2020</td>\n",
       "      <td>0</td>\n",
       "    </tr>\n",
       "    <tr>\n",
       "      <th>4</th>\n",
       "      <td>3/5/2020</td>\n",
       "      <td>1</td>\n",
       "    </tr>\n",
       "  </tbody>\n",
       "</table>\n",
       "</div>"
      ],
      "text/plain": [
       "       Date Cases - Total\n",
       "0  3/1/2020             0\n",
       "1  3/2/2020             0\n",
       "2  3/3/2020             0\n",
       "3  3/4/2020             0\n",
       "4  3/5/2020             1"
      ]
     },
     "execution_count": 4,
     "metadata": {},
     "output_type": "execute_result"
    }
   ],
   "source": [
    "# Filtered DF from specific columns\n",
    "Covid_cols = [\"Date\", \"Cases - Total\"]\n",
    "Covid_transformed= Covid_recordsDF[Covid_cols].copy()\n",
    "\n",
    "#clean\n",
    "print(Covid_transformed.shape)\n",
    "Covid_transformed.drop_duplicates(\"Date\", inplace=True) # method 1\n",
    "Covid_transformed = Covid_transformed.dropna() # method 2\n",
    "Covid_transformed.head()"
   ]
  },
  {
   "cell_type": "code",
   "execution_count": 5,
   "metadata": {},
   "outputs": [
    {
     "data": {
      "text/plain": [
       "Date             datetime64[ns]\n",
       "Cases - Total            object\n",
       "dtype: object"
      ]
     },
     "execution_count": 5,
     "metadata": {},
     "output_type": "execute_result"
    }
   ],
   "source": [
    "#Datetime for Covid\n",
    "Covid_transformed['Date'] = pd.to_datetime(Covid_transformed['Date'], format=\"%m/%d/%Y\")\n",
    "Covid_transformed.dtypes"
   ]
  },
  {
   "cell_type": "code",
   "execution_count": 6,
   "metadata": {},
   "outputs": [],
   "source": [
    "Covid_transformed['Cases - Total'] = Covid_transformed['Cases - Total'].str.replace(\",\", \"\")"
   ]
  },
  {
   "cell_type": "code",
   "execution_count": 7,
   "metadata": {},
   "outputs": [],
   "source": [
    "Covid_transformed['Cases - Total'] = Covid_transformed['Cases - Total'].astype('int')"
   ]
  },
  {
   "cell_type": "code",
   "execution_count": 8,
   "metadata": {},
   "outputs": [
    {
     "data": {
      "text/plain": [
       "Index(['CASE#', 'DATE  OF OCCURRENCE', 'BLOCK', ' IUCR',\n",
       "       ' PRIMARY DESCRIPTION', ' SECONDARY DESCRIPTION',\n",
       "       ' LOCATION DESCRIPTION', 'ARREST', 'DOMESTIC', 'BEAT', 'WARD', 'FBI CD',\n",
       "       'X COORDINATE', 'Y COORDINATE', 'LATITUDE', 'LONGITUDE', 'LOCATION'],\n",
       "      dtype='object')"
      ]
     },
     "execution_count": 8,
     "metadata": {},
     "output_type": "execute_result"
    }
   ],
   "source": [
    "#Crime data reading and column checking \n",
    "Crime_datadf = \"Resources/Chi_crime_data.csv\"\n",
    "Crime_datadf = pd.read_csv(Crime_datadf, encoding=\"utf-8\")\n",
    "Crime_datadf.columns"
   ]
  },
  {
   "cell_type": "code",
   "execution_count": 9,
   "metadata": {},
   "outputs": [
    {
     "data": {
      "text/html": [
       "<div>\n",
       "<style scoped>\n",
       "    .dataframe tbody tr th:only-of-type {\n",
       "        vertical-align: middle;\n",
       "    }\n",
       "\n",
       "    .dataframe tbody tr th {\n",
       "        vertical-align: top;\n",
       "    }\n",
       "\n",
       "    .dataframe thead th {\n",
       "        text-align: right;\n",
       "    }\n",
       "</style>\n",
       "<table border=\"1\" class=\"dataframe\">\n",
       "  <thead>\n",
       "    <tr style=\"text-align: right;\">\n",
       "      <th></th>\n",
       "      <th>CASE#</th>\n",
       "      <th>DATE  OF OCCURRENCE</th>\n",
       "      <th>BLOCK</th>\n",
       "      <th>IUCR</th>\n",
       "      <th>PRIMARY DESCRIPTION</th>\n",
       "      <th>SECONDARY DESCRIPTION</th>\n",
       "      <th>LOCATION DESCRIPTION</th>\n",
       "      <th>ARREST</th>\n",
       "      <th>DOMESTIC</th>\n",
       "      <th>BEAT</th>\n",
       "      <th>WARD</th>\n",
       "      <th>FBI CD</th>\n",
       "      <th>X COORDINATE</th>\n",
       "      <th>Y COORDINATE</th>\n",
       "      <th>LATITUDE</th>\n",
       "      <th>LONGITUDE</th>\n",
       "      <th>LOCATION</th>\n",
       "    </tr>\n",
       "  </thead>\n",
       "  <tbody>\n",
       "    <tr>\n",
       "      <th>0</th>\n",
       "      <td>JD164115</td>\n",
       "      <td>02/25/2020 10:20:00 AM</td>\n",
       "      <td>013XX S CANAL ST</td>\n",
       "      <td>0460</td>\n",
       "      <td>BATTERY</td>\n",
       "      <td>SIMPLE</td>\n",
       "      <td>GROCERY FOOD STORE</td>\n",
       "      <td>Y</td>\n",
       "      <td>N</td>\n",
       "      <td>124</td>\n",
       "      <td>11.0</td>\n",
       "      <td>08B</td>\n",
       "      <td>1173336.0</td>\n",
       "      <td>1893976.0</td>\n",
       "      <td>41.864494</td>\n",
       "      <td>-87.639158</td>\n",
       "      <td>(41.864493678, -87.639158)</td>\n",
       "    </tr>\n",
       "    <tr>\n",
       "      <th>1</th>\n",
       "      <td>JD163938</td>\n",
       "      <td>02/25/2020 05:30:00 AM</td>\n",
       "      <td>033XX W CULLOM AVE</td>\n",
       "      <td>0820</td>\n",
       "      <td>THEFT</td>\n",
       "      <td>$500 AND UNDER</td>\n",
       "      <td>STREET</td>\n",
       "      <td>N</td>\n",
       "      <td>N</td>\n",
       "      <td>1724</td>\n",
       "      <td>33.0</td>\n",
       "      <td>06</td>\n",
       "      <td>1153387.0</td>\n",
       "      <td>1928387.0</td>\n",
       "      <td>41.959340</td>\n",
       "      <td>-87.711475</td>\n",
       "      <td>(41.959339811, -87.711474784)</td>\n",
       "    </tr>\n",
       "    <tr>\n",
       "      <th>2</th>\n",
       "      <td>JC164345</td>\n",
       "      <td>02/25/2020 01:04:00 PM</td>\n",
       "      <td>023XX S PULASKI RD</td>\n",
       "      <td>1330</td>\n",
       "      <td>CRIMINAL TRESPASS</td>\n",
       "      <td>TO LAND</td>\n",
       "      <td>RESTAURANT</td>\n",
       "      <td>Y</td>\n",
       "      <td>N</td>\n",
       "      <td>1013</td>\n",
       "      <td>22.0</td>\n",
       "      <td>26</td>\n",
       "      <td>1150083.0</td>\n",
       "      <td>1887962.0</td>\n",
       "      <td>41.848475</td>\n",
       "      <td>-87.724676</td>\n",
       "      <td>(41.848474762, -87.724676285)</td>\n",
       "    </tr>\n",
       "    <tr>\n",
       "      <th>3</th>\n",
       "      <td>JD164701</td>\n",
       "      <td>02/25/2020 06:05:00 PM</td>\n",
       "      <td>058XX N RIDGE AVE</td>\n",
       "      <td>0486</td>\n",
       "      <td>BATTERY</td>\n",
       "      <td>DOMESTIC BATTERY SIMPLE</td>\n",
       "      <td>APARTMENT</td>\n",
       "      <td>Y</td>\n",
       "      <td>Y</td>\n",
       "      <td>2013</td>\n",
       "      <td>48.0</td>\n",
       "      <td>08B</td>\n",
       "      <td>1165471.0</td>\n",
       "      <td>1938819.0</td>\n",
       "      <td>41.987716</td>\n",
       "      <td>-87.666750</td>\n",
       "      <td>(41.987716355, -87.666750459)</td>\n",
       "    </tr>\n",
       "    <tr>\n",
       "      <th>4</th>\n",
       "      <td>JD164416</td>\n",
       "      <td>02/25/2020 01:42:00 PM</td>\n",
       "      <td>011XX N HARDING AVE</td>\n",
       "      <td>2027</td>\n",
       "      <td>NARCOTICS</td>\n",
       "      <td>POSS: CRACK</td>\n",
       "      <td>STREET</td>\n",
       "      <td>Y</td>\n",
       "      <td>N</td>\n",
       "      <td>1112</td>\n",
       "      <td>37.0</td>\n",
       "      <td>18</td>\n",
       "      <td>1149847.0</td>\n",
       "      <td>1907230.0</td>\n",
       "      <td>41.901353</td>\n",
       "      <td>-87.725041</td>\n",
       "      <td>(41.901352928, -87.725041269)</td>\n",
       "    </tr>\n",
       "  </tbody>\n",
       "</table>\n",
       "</div>"
      ],
      "text/plain": [
       "      CASE#     DATE  OF OCCURRENCE                BLOCK  IUCR  \\\n",
       "0  JD164115  02/25/2020 10:20:00 AM     013XX S CANAL ST  0460   \n",
       "1  JD163938  02/25/2020 05:30:00 AM   033XX W CULLOM AVE  0820   \n",
       "2  JC164345  02/25/2020 01:04:00 PM   023XX S PULASKI RD  1330   \n",
       "3  JD164701  02/25/2020 06:05:00 PM    058XX N RIDGE AVE  0486   \n",
       "4  JD164416  02/25/2020 01:42:00 PM  011XX N HARDING AVE  2027   \n",
       "\n",
       "   PRIMARY DESCRIPTION    SECONDARY DESCRIPTION  LOCATION DESCRIPTION ARREST  \\\n",
       "0              BATTERY                   SIMPLE    GROCERY FOOD STORE      Y   \n",
       "1                THEFT           $500 AND UNDER                STREET      N   \n",
       "2    CRIMINAL TRESPASS                  TO LAND            RESTAURANT      Y   \n",
       "3              BATTERY  DOMESTIC BATTERY SIMPLE             APARTMENT      Y   \n",
       "4            NARCOTICS              POSS: CRACK                STREET      Y   \n",
       "\n",
       "  DOMESTIC  BEAT  WARD FBI CD  X COORDINATE  Y COORDINATE   LATITUDE  \\\n",
       "0        N   124  11.0    08B     1173336.0     1893976.0  41.864494   \n",
       "1        N  1724  33.0     06     1153387.0     1928387.0  41.959340   \n",
       "2        N  1013  22.0     26     1150083.0     1887962.0  41.848475   \n",
       "3        Y  2013  48.0    08B     1165471.0     1938819.0  41.987716   \n",
       "4        N  1112  37.0     18     1149847.0     1907230.0  41.901353   \n",
       "\n",
       "   LONGITUDE                       LOCATION  \n",
       "0 -87.639158     (41.864493678, -87.639158)  \n",
       "1 -87.711475  (41.959339811, -87.711474784)  \n",
       "2 -87.724676  (41.848474762, -87.724676285)  \n",
       "3 -87.666750  (41.987716355, -87.666750459)  \n",
       "4 -87.725041  (41.901352928, -87.725041269)  "
      ]
     },
     "execution_count": 9,
     "metadata": {},
     "output_type": "execute_result"
    }
   ],
   "source": [
    "Crime_datadf.head()"
   ]
  },
  {
   "cell_type": "code",
   "execution_count": 10,
   "metadata": {},
   "outputs": [
    {
     "data": {
      "text/plain": [
       "CASE#                             object\n",
       "DATE  OF OCCURRENCE       datetime64[ns]\n",
       "BLOCK                             object\n",
       " IUCR                             object\n",
       " PRIMARY DESCRIPTION              object\n",
       " SECONDARY DESCRIPTION            object\n",
       " LOCATION DESCRIPTION             object\n",
       "ARREST                            object\n",
       "DOMESTIC                          object\n",
       "BEAT                               int64\n",
       "WARD                             float64\n",
       "FBI CD                            object\n",
       "X COORDINATE                     float64\n",
       "Y COORDINATE                     float64\n",
       "LATITUDE                         float64\n",
       "LONGITUDE                        float64\n",
       "LOCATION                          object\n",
       "dtype: object"
      ]
     },
     "execution_count": 10,
     "metadata": {},
     "output_type": "execute_result"
    }
   ],
   "source": [
    "#fixing dates and merging DFs\n",
    "Crime_datadf['DATE  OF OCCURRENCE'] = pd.to_datetime(Crime_datadf['DATE  OF OCCURRENCE'], format=\"%m/%d/%Y %I:%M:%S %p\")\n",
    "Crime_datadf.dtypes"
   ]
  },
  {
   "cell_type": "code",
   "execution_count": 11,
   "metadata": {},
   "outputs": [],
   "source": [
    "Crime_datadf['DATE  OF OCCURRENCE - DAY'] = Crime_datadf['DATE  OF OCCURRENCE'].dt.date"
   ]
  },
  {
   "cell_type": "code",
   "execution_count": 12,
   "metadata": {},
   "outputs": [],
   "source": [
    "# Crime_datadf['DATE  OF OCCURRENCE'] = Crime_datadf['DATE  OF OCCURRENCE'].apply(lambda x: x.replace(hour=0, minute=0, second=0))"
   ]
  },
  {
   "cell_type": "code",
   "execution_count": 13,
   "metadata": {},
   "outputs": [
    {
     "data": {
      "text/plain": [
       "Index(['CASE#', 'DATE  OF OCCURRENCE', 'BLOCK', ' IUCR',\n",
       "       ' PRIMARY DESCRIPTION', ' SECONDARY DESCRIPTION',\n",
       "       ' LOCATION DESCRIPTION', 'ARREST', 'DOMESTIC', 'BEAT', 'WARD', 'FBI CD',\n",
       "       'X COORDINATE', 'Y COORDINATE', 'LATITUDE', 'LONGITUDE', 'LOCATION',\n",
       "       'DATE  OF OCCURRENCE - DAY'],\n",
       "      dtype='object')"
      ]
     },
     "execution_count": 13,
     "metadata": {},
     "output_type": "execute_result"
    }
   ],
   "source": [
    "Crime_datadf.columns"
   ]
  },
  {
   "cell_type": "code",
   "execution_count": 14,
   "metadata": {},
   "outputs": [
    {
     "data": {
      "text/html": [
       "<div>\n",
       "<style scoped>\n",
       "    .dataframe tbody tr th:only-of-type {\n",
       "        vertical-align: middle;\n",
       "    }\n",
       "\n",
       "    .dataframe tbody tr th {\n",
       "        vertical-align: top;\n",
       "    }\n",
       "\n",
       "    .dataframe thead th {\n",
       "        text-align: right;\n",
       "    }\n",
       "</style>\n",
       "<table border=\"1\" class=\"dataframe\">\n",
       "  <thead>\n",
       "    <tr style=\"text-align: right;\">\n",
       "      <th></th>\n",
       "      <th>CASE#</th>\n",
       "      <th>DATE  OF OCCURRENCE</th>\n",
       "      <th>BLOCK</th>\n",
       "      <th>IUCR</th>\n",
       "      <th>PRIMARY DESCRIPTION</th>\n",
       "      <th>SECONDARY DESCRIPTION</th>\n",
       "      <th>LOCATION DESCRIPTION</th>\n",
       "      <th>ARREST</th>\n",
       "      <th>DOMESTIC</th>\n",
       "      <th>BEAT</th>\n",
       "      <th>WARD</th>\n",
       "      <th>FBI CD</th>\n",
       "      <th>X COORDINATE</th>\n",
       "      <th>Y COORDINATE</th>\n",
       "      <th>LATITUDE</th>\n",
       "      <th>LONGITUDE</th>\n",
       "      <th>LOCATION</th>\n",
       "      <th>DATE  OF OCCURRENCE - DAY</th>\n",
       "    </tr>\n",
       "  </thead>\n",
       "  <tbody>\n",
       "    <tr>\n",
       "      <th>0</th>\n",
       "      <td>JD164115</td>\n",
       "      <td>2020-02-25 10:20:00</td>\n",
       "      <td>013XX S CANAL ST</td>\n",
       "      <td>0460</td>\n",
       "      <td>BATTERY</td>\n",
       "      <td>SIMPLE</td>\n",
       "      <td>GROCERY FOOD STORE</td>\n",
       "      <td>Y</td>\n",
       "      <td>N</td>\n",
       "      <td>124</td>\n",
       "      <td>11.0</td>\n",
       "      <td>08B</td>\n",
       "      <td>1173336.0</td>\n",
       "      <td>1893976.0</td>\n",
       "      <td>41.864494</td>\n",
       "      <td>-87.639158</td>\n",
       "      <td>(41.864493678, -87.639158)</td>\n",
       "      <td>2020-02-25</td>\n",
       "    </tr>\n",
       "    <tr>\n",
       "      <th>1</th>\n",
       "      <td>JD163938</td>\n",
       "      <td>2020-02-25 05:30:00</td>\n",
       "      <td>033XX W CULLOM AVE</td>\n",
       "      <td>0820</td>\n",
       "      <td>THEFT</td>\n",
       "      <td>$500 AND UNDER</td>\n",
       "      <td>STREET</td>\n",
       "      <td>N</td>\n",
       "      <td>N</td>\n",
       "      <td>1724</td>\n",
       "      <td>33.0</td>\n",
       "      <td>06</td>\n",
       "      <td>1153387.0</td>\n",
       "      <td>1928387.0</td>\n",
       "      <td>41.959340</td>\n",
       "      <td>-87.711475</td>\n",
       "      <td>(41.959339811, -87.711474784)</td>\n",
       "      <td>2020-02-25</td>\n",
       "    </tr>\n",
       "    <tr>\n",
       "      <th>2</th>\n",
       "      <td>JC164345</td>\n",
       "      <td>2020-02-25 13:04:00</td>\n",
       "      <td>023XX S PULASKI RD</td>\n",
       "      <td>1330</td>\n",
       "      <td>CRIMINAL TRESPASS</td>\n",
       "      <td>TO LAND</td>\n",
       "      <td>RESTAURANT</td>\n",
       "      <td>Y</td>\n",
       "      <td>N</td>\n",
       "      <td>1013</td>\n",
       "      <td>22.0</td>\n",
       "      <td>26</td>\n",
       "      <td>1150083.0</td>\n",
       "      <td>1887962.0</td>\n",
       "      <td>41.848475</td>\n",
       "      <td>-87.724676</td>\n",
       "      <td>(41.848474762, -87.724676285)</td>\n",
       "      <td>2020-02-25</td>\n",
       "    </tr>\n",
       "    <tr>\n",
       "      <th>3</th>\n",
       "      <td>JD164701</td>\n",
       "      <td>2020-02-25 18:05:00</td>\n",
       "      <td>058XX N RIDGE AVE</td>\n",
       "      <td>0486</td>\n",
       "      <td>BATTERY</td>\n",
       "      <td>DOMESTIC BATTERY SIMPLE</td>\n",
       "      <td>APARTMENT</td>\n",
       "      <td>Y</td>\n",
       "      <td>Y</td>\n",
       "      <td>2013</td>\n",
       "      <td>48.0</td>\n",
       "      <td>08B</td>\n",
       "      <td>1165471.0</td>\n",
       "      <td>1938819.0</td>\n",
       "      <td>41.987716</td>\n",
       "      <td>-87.666750</td>\n",
       "      <td>(41.987716355, -87.666750459)</td>\n",
       "      <td>2020-02-25</td>\n",
       "    </tr>\n",
       "    <tr>\n",
       "      <th>4</th>\n",
       "      <td>JD164416</td>\n",
       "      <td>2020-02-25 13:42:00</td>\n",
       "      <td>011XX N HARDING AVE</td>\n",
       "      <td>2027</td>\n",
       "      <td>NARCOTICS</td>\n",
       "      <td>POSS: CRACK</td>\n",
       "      <td>STREET</td>\n",
       "      <td>Y</td>\n",
       "      <td>N</td>\n",
       "      <td>1112</td>\n",
       "      <td>37.0</td>\n",
       "      <td>18</td>\n",
       "      <td>1149847.0</td>\n",
       "      <td>1907230.0</td>\n",
       "      <td>41.901353</td>\n",
       "      <td>-87.725041</td>\n",
       "      <td>(41.901352928, -87.725041269)</td>\n",
       "      <td>2020-02-25</td>\n",
       "    </tr>\n",
       "  </tbody>\n",
       "</table>\n",
       "</div>"
      ],
      "text/plain": [
       "      CASE# DATE  OF OCCURRENCE                BLOCK  IUCR  \\\n",
       "0  JD164115 2020-02-25 10:20:00     013XX S CANAL ST  0460   \n",
       "1  JD163938 2020-02-25 05:30:00   033XX W CULLOM AVE  0820   \n",
       "2  JC164345 2020-02-25 13:04:00   023XX S PULASKI RD  1330   \n",
       "3  JD164701 2020-02-25 18:05:00    058XX N RIDGE AVE  0486   \n",
       "4  JD164416 2020-02-25 13:42:00  011XX N HARDING AVE  2027   \n",
       "\n",
       "   PRIMARY DESCRIPTION    SECONDARY DESCRIPTION  LOCATION DESCRIPTION ARREST  \\\n",
       "0              BATTERY                   SIMPLE    GROCERY FOOD STORE      Y   \n",
       "1                THEFT           $500 AND UNDER                STREET      N   \n",
       "2    CRIMINAL TRESPASS                  TO LAND            RESTAURANT      Y   \n",
       "3              BATTERY  DOMESTIC BATTERY SIMPLE             APARTMENT      Y   \n",
       "4            NARCOTICS              POSS: CRACK                STREET      Y   \n",
       "\n",
       "  DOMESTIC  BEAT  WARD FBI CD  X COORDINATE  Y COORDINATE   LATITUDE  \\\n",
       "0        N   124  11.0    08B     1173336.0     1893976.0  41.864494   \n",
       "1        N  1724  33.0     06     1153387.0     1928387.0  41.959340   \n",
       "2        N  1013  22.0     26     1150083.0     1887962.0  41.848475   \n",
       "3        Y  2013  48.0    08B     1165471.0     1938819.0  41.987716   \n",
       "4        N  1112  37.0     18     1149847.0     1907230.0  41.901353   \n",
       "\n",
       "   LONGITUDE                       LOCATION DATE  OF OCCURRENCE - DAY  \n",
       "0 -87.639158     (41.864493678, -87.639158)                2020-02-25  \n",
       "1 -87.711475  (41.959339811, -87.711474784)                2020-02-25  \n",
       "2 -87.724676  (41.848474762, -87.724676285)                2020-02-25  \n",
       "3 -87.666750  (41.987716355, -87.666750459)                2020-02-25  \n",
       "4 -87.725041  (41.901352928, -87.725041269)                2020-02-25  "
      ]
     },
     "execution_count": 14,
     "metadata": {},
     "output_type": "execute_result"
    }
   ],
   "source": [
    "Crime_datadf.head()"
   ]
  },
  {
   "cell_type": "code",
   "execution_count": 15,
   "metadata": {},
   "outputs": [
    {
     "name": "stdout",
     "output_type": "stream",
     "text": [
      "(205923, 8)\n",
      "(205894, 8)\n",
      "(204805, 8)\n"
     ]
    },
    {
     "data": {
      "text/html": [
       "<div>\n",
       "<style scoped>\n",
       "    .dataframe tbody tr th:only-of-type {\n",
       "        vertical-align: middle;\n",
       "    }\n",
       "\n",
       "    .dataframe tbody tr th {\n",
       "        vertical-align: top;\n",
       "    }\n",
       "\n",
       "    .dataframe thead th {\n",
       "        text-align: right;\n",
       "    }\n",
       "</style>\n",
       "<table border=\"1\" class=\"dataframe\">\n",
       "  <thead>\n",
       "    <tr style=\"text-align: right;\">\n",
       "      <th></th>\n",
       "      <th>CASE#</th>\n",
       "      <th>IUCR</th>\n",
       "      <th>Date</th>\n",
       "      <th>PRIMARY DESCRIPTION</th>\n",
       "      <th>SECONDARY DESCRIPTION</th>\n",
       "      <th>LOCATION DESCRIPTION</th>\n",
       "      <th>ARREST</th>\n",
       "      <th>DOMESTIC</th>\n",
       "    </tr>\n",
       "  </thead>\n",
       "  <tbody>\n",
       "    <tr>\n",
       "      <th>0</th>\n",
       "      <td>JD164115</td>\n",
       "      <td>0460</td>\n",
       "      <td>2020-02-25</td>\n",
       "      <td>BATTERY</td>\n",
       "      <td>SIMPLE</td>\n",
       "      <td>GROCERY FOOD STORE</td>\n",
       "      <td>Y</td>\n",
       "      <td>N</td>\n",
       "    </tr>\n",
       "    <tr>\n",
       "      <th>1</th>\n",
       "      <td>JD163938</td>\n",
       "      <td>0820</td>\n",
       "      <td>2020-02-25</td>\n",
       "      <td>THEFT</td>\n",
       "      <td>$500 AND UNDER</td>\n",
       "      <td>STREET</td>\n",
       "      <td>N</td>\n",
       "      <td>N</td>\n",
       "    </tr>\n",
       "    <tr>\n",
       "      <th>2</th>\n",
       "      <td>JC164345</td>\n",
       "      <td>1330</td>\n",
       "      <td>2020-02-25</td>\n",
       "      <td>CRIMINAL TRESPASS</td>\n",
       "      <td>TO LAND</td>\n",
       "      <td>RESTAURANT</td>\n",
       "      <td>Y</td>\n",
       "      <td>N</td>\n",
       "    </tr>\n",
       "    <tr>\n",
       "      <th>3</th>\n",
       "      <td>JD164701</td>\n",
       "      <td>0486</td>\n",
       "      <td>2020-02-25</td>\n",
       "      <td>BATTERY</td>\n",
       "      <td>DOMESTIC BATTERY SIMPLE</td>\n",
       "      <td>APARTMENT</td>\n",
       "      <td>Y</td>\n",
       "      <td>Y</td>\n",
       "    </tr>\n",
       "    <tr>\n",
       "      <th>4</th>\n",
       "      <td>JD164416</td>\n",
       "      <td>2027</td>\n",
       "      <td>2020-02-25</td>\n",
       "      <td>NARCOTICS</td>\n",
       "      <td>POSS: CRACK</td>\n",
       "      <td>STREET</td>\n",
       "      <td>Y</td>\n",
       "      <td>N</td>\n",
       "    </tr>\n",
       "  </tbody>\n",
       "</table>\n",
       "</div>"
      ],
      "text/plain": [
       "      CASE#  IUCR       Date  PRIMARY DESCRIPTION    SECONDARY DESCRIPTION  \\\n",
       "0  JD164115  0460 2020-02-25              BATTERY                   SIMPLE   \n",
       "1  JD163938  0820 2020-02-25                THEFT           $500 AND UNDER   \n",
       "2  JC164345  1330 2020-02-25    CRIMINAL TRESPASS                  TO LAND   \n",
       "3  JD164701  0486 2020-02-25              BATTERY  DOMESTIC BATTERY SIMPLE   \n",
       "4  JD164416  2027 2020-02-25            NARCOTICS              POSS: CRACK   \n",
       "\n",
       "   LOCATION DESCRIPTION ARREST DOMESTIC  \n",
       "0    GROCERY FOOD STORE      Y        N  \n",
       "1                STREET      N        N  \n",
       "2            RESTAURANT      Y        N  \n",
       "3             APARTMENT      Y        Y  \n",
       "4                STREET      Y        N  "
      ]
     },
     "execution_count": 15,
     "metadata": {},
     "output_type": "execute_result"
    }
   ],
   "source": [
    "#Clean that Data \n",
    "Crime_cols = [\"CASE#\", \" IUCR\", \"DATE  OF OCCURRENCE - DAY\", \" PRIMARY DESCRIPTION\", \" SECONDARY DESCRIPTION\", \" LOCATION DESCRIPTION\", \"ARREST\", \"DOMESTIC\"]\n",
    "Crime_transformed = Crime_datadf[Crime_cols].copy()\n",
    "print(Crime_transformed.shape)\n",
    "Crime_transformed.drop_duplicates(\"CASE#\", inplace=True)\n",
    "print(Crime_transformed.shape)\n",
    "Crime_transformed.dropna(inplace=True)\n",
    "print(Crime_transformed.shape)\n",
    "Crime_transformed.rename(columns={\"DATE  OF OCCURRENCE - DAY\": \"Date\"}, inplace=True)\n",
    "Crime_transformed['Date'] = pd.to_datetime(Crime_transformed['Date'], format='%Y-%m-%d')\n",
    "Crime_transformed.head()"
   ]
  },
  {
   "cell_type": "code",
   "execution_count": 16,
   "metadata": {},
   "outputs": [],
   "source": [
    "#Merge to a single df\n",
    "combined_data_df = pd.merge(Covid_transformed, Crime_transformed, on='Date')"
   ]
  },
  {
   "cell_type": "code",
   "execution_count": 17,
   "metadata": {},
   "outputs": [
    {
     "name": "stdout",
     "output_type": "stream",
     "text": [
      "(180413, 9)\n"
     ]
    },
    {
     "data": {
      "text/html": [
       "<div>\n",
       "<style scoped>\n",
       "    .dataframe tbody tr th:only-of-type {\n",
       "        vertical-align: middle;\n",
       "    }\n",
       "\n",
       "    .dataframe tbody tr th {\n",
       "        vertical-align: top;\n",
       "    }\n",
       "\n",
       "    .dataframe thead th {\n",
       "        text-align: right;\n",
       "    }\n",
       "</style>\n",
       "<table border=\"1\" class=\"dataframe\">\n",
       "  <thead>\n",
       "    <tr style=\"text-align: right;\">\n",
       "      <th></th>\n",
       "      <th>Date</th>\n",
       "      <th>Cases - Total</th>\n",
       "      <th>CASE#</th>\n",
       "      <th>IUCR</th>\n",
       "      <th>PRIMARY DESCRIPTION</th>\n",
       "      <th>SECONDARY DESCRIPTION</th>\n",
       "      <th>LOCATION DESCRIPTION</th>\n",
       "      <th>ARREST</th>\n",
       "      <th>DOMESTIC</th>\n",
       "    </tr>\n",
       "  </thead>\n",
       "  <tbody>\n",
       "    <tr>\n",
       "      <th>0</th>\n",
       "      <td>2020-03-01</td>\n",
       "      <td>0</td>\n",
       "      <td>JD170468</td>\n",
       "      <td>0110</td>\n",
       "      <td>HOMICIDE</td>\n",
       "      <td>FIRST DEGREE MURDER</td>\n",
       "      <td>VESTIBULE</td>\n",
       "      <td>Y</td>\n",
       "      <td>N</td>\n",
       "    </tr>\n",
       "    <tr>\n",
       "      <th>1</th>\n",
       "      <td>2020-03-01</td>\n",
       "      <td>0</td>\n",
       "      <td>JD368864</td>\n",
       "      <td>0890</td>\n",
       "      <td>THEFT</td>\n",
       "      <td>FROM BUILDING</td>\n",
       "      <td>OTHER (SPECIFY)</td>\n",
       "      <td>N</td>\n",
       "      <td>N</td>\n",
       "    </tr>\n",
       "    <tr>\n",
       "      <th>2</th>\n",
       "      <td>2020-03-01</td>\n",
       "      <td>0</td>\n",
       "      <td>JD170475</td>\n",
       "      <td>0486</td>\n",
       "      <td>BATTERY</td>\n",
       "      <td>DOMESTIC BATTERY SIMPLE</td>\n",
       "      <td>STREET</td>\n",
       "      <td>Y</td>\n",
       "      <td>Y</td>\n",
       "    </tr>\n",
       "    <tr>\n",
       "      <th>3</th>\n",
       "      <td>2020-03-01</td>\n",
       "      <td>0</td>\n",
       "      <td>JD191229</td>\n",
       "      <td>0281</td>\n",
       "      <td>CRIMINAL SEXUAL ASSAULT</td>\n",
       "      <td>NON-AGGRAVATED</td>\n",
       "      <td>APARTMENT</td>\n",
       "      <td>N</td>\n",
       "      <td>N</td>\n",
       "    </tr>\n",
       "    <tr>\n",
       "      <th>4</th>\n",
       "      <td>2020-03-01</td>\n",
       "      <td>0</td>\n",
       "      <td>JD170171</td>\n",
       "      <td>2027</td>\n",
       "      <td>NARCOTICS</td>\n",
       "      <td>POSSESS - CRACK</td>\n",
       "      <td>APARTMENT</td>\n",
       "      <td>Y</td>\n",
       "      <td>N</td>\n",
       "    </tr>\n",
       "  </tbody>\n",
       "</table>\n",
       "</div>"
      ],
      "text/plain": [
       "        Date  Cases - Total     CASE#  IUCR      PRIMARY DESCRIPTION  \\\n",
       "0 2020-03-01              0  JD170468  0110                 HOMICIDE   \n",
       "1 2020-03-01              0  JD368864  0890                    THEFT   \n",
       "2 2020-03-01              0  JD170475  0486                  BATTERY   \n",
       "3 2020-03-01              0  JD191229  0281  CRIMINAL SEXUAL ASSAULT   \n",
       "4 2020-03-01              0  JD170171  2027                NARCOTICS   \n",
       "\n",
       "     SECONDARY DESCRIPTION  LOCATION DESCRIPTION ARREST DOMESTIC  \n",
       "0      FIRST DEGREE MURDER             VESTIBULE      Y        N  \n",
       "1            FROM BUILDING       OTHER (SPECIFY)      N        N  \n",
       "2  DOMESTIC BATTERY SIMPLE                STREET      Y        Y  \n",
       "3           NON-AGGRAVATED             APARTMENT      N        N  \n",
       "4          POSSESS - CRACK             APARTMENT      Y        N  "
      ]
     },
     "execution_count": 17,
     "metadata": {},
     "output_type": "execute_result"
    }
   ],
   "source": [
    "print(combined_data_df.shape)\n",
    "combined_data_df.head()"
   ]
  },
  {
   "cell_type": "code",
   "execution_count": 18,
   "metadata": {},
   "outputs": [
    {
     "data": {
      "text/plain": [
       "Text(0, 0.5, '# of Cases')"
      ]
     },
     "execution_count": 18,
     "metadata": {},
     "output_type": "execute_result"
    },
    {
     "data": {
      "image/png": "[encoded data removed]",
      "text/plain": [
       "<Figure size 1080x576 with 1 Axes>"
      ]
     },
     "metadata": {
      "needs_background": "light"
     },
     "output_type": "display_data"
    }
   ],
   "source": [
    "#First Quesyion Bar plot - Most committed crime type\n",
    "plt.rcParams[\"figure.figsize\"] = (15, 8)\n",
    "crime_type_df = pd.DataFrame(Crime_transformed[\" PRIMARY DESCRIPTION\"].value_counts())\n",
    "first_question_plot = crime_type_df.plot(kind=\"bar\", color='thistle', fontsize=14)\n",
    "plt.suptitle('Chicago Crime', fontsize=24)\n",
    "first_question_plot.set_xlabel('Crime Type', fontsize=18)\n",
    "first_question_plot.set_ylabel('# of Cases', fontsize=18)"
   ]
  },
  {
   "cell_type": "code",
   "execution_count": 19,
   "metadata": {},
   "outputs": [],
   "source": [
    "#Counts of crime per day\n",
    "total_crime_df = Crime_transformed.value_counts([\"Date\"]).reset_index(name='Counts')"
   ]
  },
  {
   "cell_type": "code",
   "execution_count": 20,
   "metadata": {},
   "outputs": [],
   "source": [
    "#Print out counts to csv\n",
    "total_crime_df.to_csv('file_name.csv', index=False)"
   ]
  },
  {
   "cell_type": "code",
   "execution_count": 21,
   "metadata": {},
   "outputs": [],
   "source": [
    "total_crime_df.sort_values('Date', inplace=True)"
   ]
  },
  {
   "cell_type": "code",
   "execution_count": 22,
   "metadata": {},
   "outputs": [],
   "source": [
    "#Merge daily crime counts with covid counts\n",
    "total_crime_with_covid_df = pd.merge(total_crime_df, Covid_transformed, on = \"Date\")"
   ]
  },
  {
   "cell_type": "code",
   "execution_count": 23,
   "metadata": {},
   "outputs": [],
   "source": [
    "#Sort by date\n",
    "total_crime_with_covid_df.sort_values('Date', inplace=True)\n",
    "total_crime_with_covid_df = total_crime_with_covid_df.reset_index(drop=True)"
   ]
  },
  {
   "cell_type": "code",
   "execution_count": 24,
   "metadata": {},
   "outputs": [
    {
     "data": {
      "text/html": [
       "<div>\n",
       "<style scoped>\n",
       "    .dataframe tbody tr th:only-of-type {\n",
       "        vertical-align: middle;\n",
       "    }\n",
       "\n",
       "    .dataframe tbody tr th {\n",
       "        vertical-align: top;\n",
       "    }\n",
       "\n",
       "    .dataframe thead th {\n",
       "        text-align: right;\n",
       "    }\n",
       "</style>\n",
       "<table border=\"1\" class=\"dataframe\">\n",
       "  <thead>\n",
       "    <tr style=\"text-align: right;\">\n",
       "      <th></th>\n",
       "      <th>Date</th>\n",
       "      <th>Counts</th>\n",
       "      <th>Cases - Total</th>\n",
       "    </tr>\n",
       "  </thead>\n",
       "  <tbody>\n",
       "    <tr>\n",
       "      <th>0</th>\n",
       "      <td>2020-03-01</td>\n",
       "      <td>706</td>\n",
       "      <td>0</td>\n",
       "    </tr>\n",
       "    <tr>\n",
       "      <th>1</th>\n",
       "      <td>2020-03-02</td>\n",
       "      <td>592</td>\n",
       "      <td>0</td>\n",
       "    </tr>\n",
       "    <tr>\n",
       "      <th>2</th>\n",
       "      <td>2020-03-03</td>\n",
       "      <td>630</td>\n",
       "      <td>0</td>\n",
       "    </tr>\n",
       "    <tr>\n",
       "      <th>3</th>\n",
       "      <td>2020-03-04</td>\n",
       "      <td>619</td>\n",
       "      <td>0</td>\n",
       "    </tr>\n",
       "    <tr>\n",
       "      <th>4</th>\n",
       "      <td>2020-03-05</td>\n",
       "      <td>583</td>\n",
       "      <td>1</td>\n",
       "    </tr>\n",
       "    <tr>\n",
       "      <th>...</th>\n",
       "      <td>...</td>\n",
       "      <td>...</td>\n",
       "      <td>...</td>\n",
       "    </tr>\n",
       "    <tr>\n",
       "      <th>321</th>\n",
       "      <td>2021-01-16</td>\n",
       "      <td>466</td>\n",
       "      <td>582</td>\n",
       "    </tr>\n",
       "    <tr>\n",
       "      <th>322</th>\n",
       "      <td>2021-01-17</td>\n",
       "      <td>460</td>\n",
       "      <td>365</td>\n",
       "    </tr>\n",
       "    <tr>\n",
       "      <th>323</th>\n",
       "      <td>2021-01-18</td>\n",
       "      <td>441</td>\n",
       "      <td>619</td>\n",
       "    </tr>\n",
       "    <tr>\n",
       "      <th>324</th>\n",
       "      <td>2021-01-19</td>\n",
       "      <td>471</td>\n",
       "      <td>1004</td>\n",
       "    </tr>\n",
       "    <tr>\n",
       "      <th>325</th>\n",
       "      <td>2021-01-20</td>\n",
       "      <td>432</td>\n",
       "      <td>735</td>\n",
       "    </tr>\n",
       "  </tbody>\n",
       "</table>\n",
       "<p>326 rows × 3 columns</p>\n",
       "</div>"
      ],
      "text/plain": [
       "          Date  Counts  Cases - Total\n",
       "0   2020-03-01     706              0\n",
       "1   2020-03-02     592              0\n",
       "2   2020-03-03     630              0\n",
       "3   2020-03-04     619              0\n",
       "4   2020-03-05     583              1\n",
       "..         ...     ...            ...\n",
       "321 2021-01-16     466            582\n",
       "322 2021-01-17     460            365\n",
       "323 2021-01-18     441            619\n",
       "324 2021-01-19     471           1004\n",
       "325 2021-01-20     432            735\n",
       "\n",
       "[326 rows x 3 columns]"
      ]
     },
     "execution_count": 24,
     "metadata": {},
     "output_type": "execute_result"
    }
   ],
   "source": [
    "total_crime_with_covid_df"
   ]
  },
  {
   "cell_type": "code",
   "execution_count": 36,
   "metadata": {},
   "outputs": [
    {
     "data": {
      "image/png": "[encoded data removed]",
      "text/plain": [
       "<Figure size 1080x576 with 1 Axes>"
      ]
     },
     "metadata": {
      "needs_background": "light"
     },
     "output_type": "display_data"
    }
   ],
   "source": [
    "#Scatter plot correlation of covid and crime cases\n",
    "x_values = total_crime_with_covid_df['Cases - Total']\n",
    "y_values = total_crime_with_covid_df['Counts']\n",
    "(slope, intercept, rvalue, pvalue, stderr) = linregress(x_values, y_values)\n",
    "regress_values = x_values * slope + intercept\n",
    "line_eq = \"y = \" + str(round(slope,2)) + \"x + \" + str(round(intercept,2))\n",
    "plt.scatter(x_values,y_values)\n",
    "plt.plot(x_values,regress_values,\"r-\")\n",
    "plt.annotate(line_eq,(6,10),fontsize=15,color=\"red\")\n",
    "plt.xlabel('Covid Cases', fontsize=18)\n",
    "plt.ylabel('Total Crimes', fontsize=18)\n",
    "plt.ylim([300, 1000])\n",
    "plt.suptitle('Chicago Crime vs Covid Cases per day', fontsize=24)\n",
    "plt.show()\n",
    "\n",
    "#total_crime_with_covid_plot = total_crime_with_covid_df.plot(kind='scatter', x='Cases - Total',y='Counts',color='blue', s =150, )\n",
    "#total_crime_with_covid_plot.set_xlabel('Covid Cases', fontsize=18)\n",
    "#total_crime_with_covid_plot.set_ylabel('Total Crimes', fontsize=18)\n",
    "\n",
    "\n",
    "#regress_values = \"Cases - Total\" * slope + intervept\n",
    "#line_eq = \"y = \" + str(round(slope, 2)) + \"x + \" + str(round(intercept,2)) \n",
    "#plt.scatter(x_values,y_values) \n",
    "#plt.plot(x_values,regress_values,\"r-\")\n",
    "#plt.show()\n",
    "\n"
   ]
  },
  {
   "cell_type": "code",
   "execution_count": null,
   "metadata": {},
   "outputs": [],
   "source": [
    "#Describe the data set so we can see if there are any outliers.\n",
    "total_crime_with_covid_df.describe()"
   ]
  },
  {
   "cell_type": "code",
   "execution_count": null,
   "metadata": {},
   "outputs": [],
   "source": [
    "total_crime_type_df = Crime_transformed.value_counts([\" PRIMARY DESCRIPTION\", \"Date\"]).reset_index(name='Counts')\n",
    "total_crime_type_df"
   ]
  },
  {
   "cell_type": "code",
   "execution_count": null,
   "metadata": {},
   "outputs": [],
   "source": [
    "total_crime_type_df.sort_values(['Date', \" PRIMARY DESCRIPTION\"], inplace=True)\n",
    "total_crime_type_df.to_csv('crime_type.csv', index=False)\n",
    "total_crime_type_df"
   ]
  },
  {
   "cell_type": "code",
   "execution_count": null,
   "metadata": {},
   "outputs": [],
   "source": [
    "total_crime_type_with_covid_df = pd.merge(total_crime_type_df, Covid_transformed, on = \"Date\")\n",
    "total_crime_type_with_covid_df"
   ]
  },
  {
   "cell_type": "code",
   "execution_count": null,
   "metadata": {},
   "outputs": [],
   "source": [
    "total_crime_type_with_covid_df.sort_values(['Date', \" PRIMARY DESCRIPTION\"], inplace=True)\n",
    "total_crime_type_with_covid_df.to_csv('crime_type_with_covid.csv')"
   ]
  },
  {
   "cell_type": "code",
   "execution_count": null,
   "metadata": {},
   "outputs": [],
   "source": [
    "total_crime_with_covid_df.describe()"
   ]
  },
  {
   "cell_type": "code",
   "execution_count": null,
   "metadata": {},
   "outputs": [],
   "source": [
    "total_domestic_df = Crime_transformed[~(Crime_transformed['DOMESTIC'] == 'N')]"
   ]
  },
  {
   "cell_type": "code",
   "execution_count": null,
   "metadata": {},
   "outputs": [],
   "source": [
    "total_domestic_df = total_domestic_df.value_counts([\"DOMESTIC\", 'Date']).reset_index(name='Counts')"
   ]
  },
  {
   "cell_type": "code",
   "execution_count": null,
   "metadata": {},
   "outputs": [],
   "source": [
    "total_domestic_df.sort_values('Date', inplace=True)"
   ]
  },
  {
   "cell_type": "code",
   "execution_count": null,
   "metadata": {},
   "outputs": [],
   "source": [
    "total_domestic_df"
   ]
  },
  {
   "cell_type": "code",
   "execution_count": null,
   "metadata": {},
   "outputs": [],
   "source": [
    "total_domestic_with_covid_df = pd.merge(total_domestic_df, Covid_transformed, on = \"Date\")"
   ]
  },
  {
   "cell_type": "code",
   "execution_count": null,
   "metadata": {},
   "outputs": [],
   "source": [
    "total_domestic_with_covid_df.sort_values('Date', inplace=True)\n",
    "total_domestic_with_covid_df = total_domestic_with_covid_df.reset_index(drop=True)"
   ]
  },
  {
   "cell_type": "code",
   "execution_count": null,
   "metadata": {},
   "outputs": [],
   "source": [
    "#total_domestic_with_covid_df.to_csv('domestic_with_covid.csv')"
   ]
  },
  {
   "cell_type": "code",
   "execution_count": null,
   "metadata": {},
   "outputs": [],
   "source": [
    "total_domestic_with_covid_df.describe()"
   ]
  },
  {
   "cell_type": "code",
   "execution_count": null,
   "metadata": {},
   "outputs": [],
   "source": [
    "total_domestic_with_covid_df"
   ]
  },
  {
   "cell_type": "code",
   "execution_count": null,
   "metadata": {},
   "outputs": [],
   "source": [
    "total_domestic_with_covid_plot = total_domestic_with_covid_df.plot(kind='scatter',x='Cases - Total',y='Counts',color='blue', s =150, fontsize=14)\n",
    "total_domestic_with_covid_plot.set_xlabel('Covid Cases', fontsize=18)\n",
    "total_domestic_with_covid_plot.set_ylabel('Domestic Crime', fontsize=18)\n",
    "plt.suptitle('Domestic Crime vs Covid Cases per day', fontsize=24)\n",
    "plt.show()"
   ]
  },
  {
   "cell_type": "code",
   "execution_count": null,
   "metadata": {},
   "outputs": [],
   "source": [
    "#Plotly with Covid & Crime\n",
    "fig = go.Figure()\n",
    "fig = make_subplots(specs=[[{\"secondary_y\": True}]])\n",
    "fig.add_trace(go.Scatter(x=Covid_transformed.Date, y=Covid_transformed['Cases - Total'], name=\"Covid data\"), secondary_y=False)\n",
    "fig.add_trace(go.Scatter(x=total_crime_df.Date, y=total_crime_df.Counts, name=\"Crime data\"), secondary_y=True)\n",
    "fig.update_layout(title_text=\"Covid & Crime cases with range slider and selectors\")\n",
    "fig.update_layout(\n",
    "    xaxis=dict(\n",
    "        rangeselector=dict(\n",
    "            buttons=list([\n",
    "                dict(count=1,\n",
    "                     label=\"1m\",\n",
    "                     step=\"month\",\n",
    "                     stepmode=\"backward\"),\n",
    "                dict(count=6,\n",
    "                     label=\"6m\",\n",
    "                     step=\"month\",\n",
    "                     stepmode=\"backward\"),\n",
    "                dict(count=1,\n",
    "                     label=\"YTD\",\n",
    "                     step=\"year\",\n",
    "                     stepmode=\"todate\"),\n",
    "                dict(count=1,\n",
    "                     label=\"1y\",\n",
    "                     step=\"year\",\n",
    "                     stepmode=\"backward\"),\n",
    "                dict(step=\"all\")\n",
    "            ])\n",
    "        ),\n",
    "        rangeslider=dict(\n",
    "            visible=True\n",
    "        ),\n",
    "        type=\"date\"\n",
    "    )\n",
    ")\n",
    "fig.update_yaxes(title_text=\"<b>Covid\", secondary_y=False)\n",
    "fig.update_yaxes(title_text=\"<b>Crime\", secondary_y=True)\n",
    "\n",
    "fig.show()"
   ]
  },
  {
   "cell_type": "code",
   "execution_count": null,
   "metadata": {},
   "outputs": [],
   "source": [
    "Covid_transformed['Week'] = Covid_transformed['Date'].apply(lambda x: x.isocalendar()[1] + (x.isocalendar()[0]-2020)*52)\n",
    "covid_week = pd.DataFrame(Covid_transformed.groupby('Week').sum())\n",
    "covid_week.head()"
   ]
  },
  {
   "cell_type": "code",
   "execution_count": null,
   "metadata": {},
   "outputs": [],
   "source": [
    "total_crime_df['Week'] = total_crime_df['Date'].apply(lambda x: x.isocalendar()[1] + (x.isocalendar()[0]-2020)*52)\n",
    "crime_week = pd.DataFrame(total_crime_df.groupby('Week').sum())\n",
    "crime_week.head()"
   ]
  },
  {
   "cell_type": "code",
   "execution_count": null,
   "metadata": {},
   "outputs": [],
   "source": [
    "#Plotly with weekly covid and crime data\n",
    "fig = go.Figure()\n",
    "fig = make_subplots(specs=[[{\"secondary_y\": True}]])\n",
    "fig.add_trace(go.Scatter(x=covid_week.index, y=covid_week['Cases - Total'], name=\"Covid Weekly data\"), secondary_y=False)\n",
    "fig.add_trace(go.Scatter(x=crime_week.index, y=crime_week.Counts, name=\"Crime Weekly data\"), secondary_y=True)\n",
    "fig.update_layout(title_text=\"Weekly Covid & Crime cases\")\n",
    "\n",
    "\n",
    "fig.update_yaxes(title_text=\"<b>Covid\", secondary_y=False)\n",
    "fig.update_yaxes(title_text=\"<b>Crime\", secondary_y=True)\n",
    "fig.update_xaxes(title_text=\"<b>Week\")\n",
    "fig.show()"
   ]
  }
 ],
 "metadata": {
  "kernelspec": {
   "display_name": "Python 3",
   "language": "python",
   "name": "python3"
  },
  "language_info": {
   "codemirror_mode": {
    "name": "ipython",
    "version": 3
   },
   "file_extension": ".py",
   "mimetype": "text/x-python",
   "name": "python",
   "nbconvert_exporter": "python",
   "pygments_lexer": "ipython3",
   "version": "3.8.5"
  }
 },
 "nbformat": 4,
 "nbformat_minor": 4
}
